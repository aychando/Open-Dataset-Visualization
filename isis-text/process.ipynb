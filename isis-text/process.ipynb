{
 "cells": [
  {
   "cell_type": "code",
   "execution_count": 2,
   "metadata": {},
   "outputs": [],
   "source": [
    "import numpy as np\n",
    "import pandas as pd\n",
    "from textblob import TextBlob\n",
    "from sklearn.feature_extraction.text import CountVectorizer\n",
    "from sklearn.feature_extraction.text import TfidfTransformer\n",
    "from sklearn.pipeline import Pipeline\n",
    "from sklearn.linear_model import SGDClassifier\n",
    "from sklearn import metrics\n",
    "from sklearn.preprocessing import LabelEncoder\n",
    "from collections import OrderedDict"
   ]
  },
  {
   "cell_type": "code",
   "execution_count": 23,
   "metadata": {},
   "outputs": [
    {
     "data": {
      "text/html": [
       "<div>\n",
       "<style>\n",
       "    .dataframe thead tr:only-child th {\n",
       "        text-align: right;\n",
       "    }\n",
       "\n",
       "    .dataframe thead th {\n",
       "        text-align: left;\n",
       "    }\n",
       "\n",
       "    .dataframe tbody tr th {\n",
       "        vertical-align: top;\n",
       "    }\n",
       "</style>\n",
       "<table border=\"1\" class=\"dataframe\">\n",
       "  <thead>\n",
       "    <tr style=\"text-align: right;\">\n",
       "      <th></th>\n",
       "      <th>Magazine</th>\n",
       "      <th>Issue</th>\n",
       "      <th>Date</th>\n",
       "      <th>Type</th>\n",
       "      <th>Source</th>\n",
       "      <th>Quote</th>\n",
       "      <th>Purpose</th>\n",
       "      <th>Article Name</th>\n",
       "    </tr>\n",
       "  </thead>\n",
       "  <tbody>\n",
       "    <tr>\n",
       "      <th>0</th>\n",
       "      <td>Dabiq</td>\n",
       "      <td>1.0</td>\n",
       "      <td>Jun-14</td>\n",
       "      <td>Jihadist</td>\n",
       "      <td>Abu Mus'ab az-Zarqawi</td>\n",
       "      <td>The spark has been lit here in Iraq, and its h...</td>\n",
       "      <td>Support</td>\n",
       "      <td>First Page</td>\n",
       "    </tr>\n",
       "    <tr>\n",
       "      <th>1</th>\n",
       "      <td>Dabiq</td>\n",
       "      <td>1.0</td>\n",
       "      <td>Jun-14</td>\n",
       "      <td>Hadith</td>\n",
       "      <td>Sahih Muslim</td>\n",
       "      <td>The Hour will not be established until the Ro...</td>\n",
       "      <td>Support</td>\n",
       "      <td>Introduction</td>\n",
       "    </tr>\n",
       "    <tr>\n",
       "      <th>2</th>\n",
       "      <td>Dabiq</td>\n",
       "      <td>1.0</td>\n",
       "      <td>Jun-14</td>\n",
       "      <td>Jihadist</td>\n",
       "      <td>Abu Mus'ab az-Zarqawi</td>\n",
       "      <td>The spark has been lit here in Iraq, and its ...</td>\n",
       "      <td>Support</td>\n",
       "      <td>Introduction</td>\n",
       "    </tr>\n",
       "    <tr>\n",
       "      <th>3</th>\n",
       "      <td>Dabiq</td>\n",
       "      <td>1.0</td>\n",
       "      <td>Jun-14</td>\n",
       "      <td>Jihadist</td>\n",
       "      <td>Abu Bakr al-Baghdadi</td>\n",
       "      <td>O Muslims everywhere, glad tidings to you and...</td>\n",
       "      <td>Support</td>\n",
       "      <td>Khilafah Declared</td>\n",
       "    </tr>\n",
       "    <tr>\n",
       "      <th>4</th>\n",
       "      <td>Dabiq</td>\n",
       "      <td>1.0</td>\n",
       "      <td>Jun-14</td>\n",
       "      <td>Jihadist</td>\n",
       "      <td>Abu Bakr al-Baghdadi</td>\n",
       "      <td>O Ummah of Islam, indeed the world today has ...</td>\n",
       "      <td>Support</td>\n",
       "      <td>The World has Divided into Two Camps</td>\n",
       "    </tr>\n",
       "  </tbody>\n",
       "</table>\n",
       "</div>"
      ],
      "text/plain": [
       "  Magazine  Issue    Date      Type                 Source  \\\n",
       "0    Dabiq    1.0  Jun-14  Jihadist  Abu Mus'ab az-Zarqawi   \n",
       "1    Dabiq    1.0  Jun-14    Hadith           Sahih Muslim   \n",
       "2    Dabiq    1.0  Jun-14  Jihadist  Abu Mus'ab az-Zarqawi   \n",
       "3    Dabiq    1.0  Jun-14  Jihadist   Abu Bakr al-Baghdadi   \n",
       "4    Dabiq    1.0  Jun-14  Jihadist   Abu Bakr al-Baghdadi   \n",
       "\n",
       "                                               Quote  Purpose  \\\n",
       "0  The spark has been lit here in Iraq, and its h...  Support   \n",
       "1  The Hour will not be established until the Ro...  Support   \n",
       "2  The spark has been lit here in Iraq, and its ...  Support   \n",
       "3  O Muslims everywhere, glad tidings to you and...  Support   \n",
       "4  O Ummah of Islam, indeed the world today has ...  Support   \n",
       "\n",
       "                           Article Name  \n",
       "0                            First Page  \n",
       "1                          Introduction  \n",
       "2                          Introduction  \n",
       "3                     Khilafah Declared  \n",
       "4  The World has Divided into Two Camps  "
      ]
     },
     "execution_count": 23,
     "metadata": {},
     "output_type": "execute_result"
    }
   ],
   "source": [
    "df = pd.read_csv('ISIS Religious Texts v1.csv', encoding = \"ISO-8859-1\")\n",
    "df.head()"
   ]
  },
  {
   "cell_type": "code",
   "execution_count": 24,
   "metadata": {
    "collapsed": true
   },
   "outputs": [],
   "source": [
    "import re\n",
    "def clearstring(string):\n",
    "    try:\n",
    "        string = re.sub('[^A-Za-z0-9 .]+', '', string)\n",
    "        string = string.split(' ')\n",
    "        string = filter(None, string)\n",
    "        string = [y.strip() for y in string]\n",
    "        string = ' '.join(string)\n",
    "    except:\n",
    "        print(string)\n",
    "    return string"
   ]
  },
  {
   "cell_type": "code",
   "execution_count": 25,
   "metadata": {},
   "outputs": [
    {
     "name": "stderr",
     "output_type": "stream",
     "text": [
      "/usr/local/lib/python3.5/dist-packages/pandas/core/indexing.py:179: SettingWithCopyWarning: \n",
      "A value is trying to be set on a copy of a slice from a DataFrame\n",
      "\n",
      "See the caveats in the documentation: http://pandas.pydata.org/pandas-docs/stable/indexing.html#indexing-view-versus-copy\n",
      "  self._setitem_with_indexer(indexer, value)\n"
     ]
    },
    {
     "name": "stdout",
     "output_type": "stream",
     "text": [
      "nan\n"
     ]
    }
   ],
   "source": [
    "# remove some unnecessary symbols \n",
    "for i in range(df.shape[0]):\n",
    "    df['Quote'].iloc[i] = clearstring(df['Quote'].iloc[i])"
   ]
  },
  {
   "cell_type": "code",
   "execution_count": 26,
   "metadata": {},
   "outputs": [
    {
     "data": {
      "text/html": [
       "<div>\n",
       "<style>\n",
       "    .dataframe thead tr:only-child th {\n",
       "        text-align: right;\n",
       "    }\n",
       "\n",
       "    .dataframe thead th {\n",
       "        text-align: left;\n",
       "    }\n",
       "\n",
       "    .dataframe tbody tr th {\n",
       "        vertical-align: top;\n",
       "    }\n",
       "</style>\n",
       "<table border=\"1\" class=\"dataframe\">\n",
       "  <thead>\n",
       "    <tr style=\"text-align: right;\">\n",
       "      <th></th>\n",
       "      <th>Magazine</th>\n",
       "      <th>Issue</th>\n",
       "      <th>Date</th>\n",
       "      <th>Type</th>\n",
       "      <th>Source</th>\n",
       "      <th>Quote</th>\n",
       "      <th>Purpose</th>\n",
       "      <th>Article Name</th>\n",
       "    </tr>\n",
       "  </thead>\n",
       "  <tbody>\n",
       "    <tr>\n",
       "      <th>0</th>\n",
       "      <td>Dabiq</td>\n",
       "      <td>1.0</td>\n",
       "      <td>Jun-14</td>\n",
       "      <td>Jihadist</td>\n",
       "      <td>Abu Mus'ab az-Zarqawi</td>\n",
       "      <td>The spark has been lit here in Iraq and its he...</td>\n",
       "      <td>Support</td>\n",
       "      <td>First Page</td>\n",
       "    </tr>\n",
       "    <tr>\n",
       "      <th>1</th>\n",
       "      <td>Dabiq</td>\n",
       "      <td>1.0</td>\n",
       "      <td>Jun-14</td>\n",
       "      <td>Hadith</td>\n",
       "      <td>Sahih Muslim</td>\n",
       "      <td>The Hour will not be established until the Rom...</td>\n",
       "      <td>Support</td>\n",
       "      <td>Introduction</td>\n",
       "    </tr>\n",
       "    <tr>\n",
       "      <th>2</th>\n",
       "      <td>Dabiq</td>\n",
       "      <td>1.0</td>\n",
       "      <td>Jun-14</td>\n",
       "      <td>Jihadist</td>\n",
       "      <td>Abu Mus'ab az-Zarqawi</td>\n",
       "      <td>The spark has been lit here in Iraq and its he...</td>\n",
       "      <td>Support</td>\n",
       "      <td>Introduction</td>\n",
       "    </tr>\n",
       "    <tr>\n",
       "      <th>3</th>\n",
       "      <td>Dabiq</td>\n",
       "      <td>1.0</td>\n",
       "      <td>Jun-14</td>\n",
       "      <td>Jihadist</td>\n",
       "      <td>Abu Bakr al-Baghdadi</td>\n",
       "      <td>O Muslims everywhere glad tidings to you and e...</td>\n",
       "      <td>Support</td>\n",
       "      <td>Khilafah Declared</td>\n",
       "    </tr>\n",
       "    <tr>\n",
       "      <th>4</th>\n",
       "      <td>Dabiq</td>\n",
       "      <td>1.0</td>\n",
       "      <td>Jun-14</td>\n",
       "      <td>Jihadist</td>\n",
       "      <td>Abu Bakr al-Baghdadi</td>\n",
       "      <td>O Ummah of Islam indeed the world today has be...</td>\n",
       "      <td>Support</td>\n",
       "      <td>The World has Divided into Two Camps</td>\n",
       "    </tr>\n",
       "  </tbody>\n",
       "</table>\n",
       "</div>"
      ],
      "text/plain": [
       "  Magazine  Issue    Date      Type                 Source  \\\n",
       "0    Dabiq    1.0  Jun-14  Jihadist  Abu Mus'ab az-Zarqawi   \n",
       "1    Dabiq    1.0  Jun-14    Hadith           Sahih Muslim   \n",
       "2    Dabiq    1.0  Jun-14  Jihadist  Abu Mus'ab az-Zarqawi   \n",
       "3    Dabiq    1.0  Jun-14  Jihadist   Abu Bakr al-Baghdadi   \n",
       "4    Dabiq    1.0  Jun-14  Jihadist   Abu Bakr al-Baghdadi   \n",
       "\n",
       "                                               Quote  Purpose  \\\n",
       "0  The spark has been lit here in Iraq and its he...  Support   \n",
       "1  The Hour will not be established until the Rom...  Support   \n",
       "2  The spark has been lit here in Iraq and its he...  Support   \n",
       "3  O Muslims everywhere glad tidings to you and e...  Support   \n",
       "4  O Ummah of Islam indeed the world today has be...  Support   \n",
       "\n",
       "                           Article Name  \n",
       "0                            First Page  \n",
       "1                          Introduction  \n",
       "2                          Introduction  \n",
       "3                     Khilafah Declared  \n",
       "4  The World has Divided into Two Camps  "
      ]
     },
     "execution_count": 26,
     "metadata": {},
     "output_type": "execute_result"
    }
   ],
   "source": [
    "# remove last row, empty row\n",
    "df = df.iloc[:-1, :]\n",
    "df.head()"
   ]
  },
  {
   "cell_type": "code",
   "execution_count": 27,
   "metadata": {
    "collapsed": true
   },
   "outputs": [],
   "source": [
    "# I just want verbs and nouns in a sentence\n",
    "def get_clean_text(string):\n",
    "    blob = TextBlob(string).tags\n",
    "    tags = []\n",
    "    # you can add more\n",
    "    accept = ['NNP', 'NN', 'NNS', 'NNPS', 'VBZ', 'VBN', 'VB']\n",
    "    for k in blob:\n",
    "        if k[1] in accept:\n",
    "            tags.append(k[0])\n",
    "    return list(OrderedDict.fromkeys(tags))"
   ]
  },
  {
   "cell_type": "code",
   "execution_count": 28,
   "metadata": {},
   "outputs": [
    {
     "name": "stderr",
     "output_type": "stream",
     "text": [
      "/usr/local/lib/python3.5/dist-packages/pandas/core/indexing.py:179: SettingWithCopyWarning: \n",
      "A value is trying to be set on a copy of a slice from a DataFrame\n",
      "\n",
      "See the caveats in the documentation: http://pandas.pydata.org/pandas-docs/stable/indexing.html#indexing-view-versus-copy\n",
      "  self._setitem_with_indexer(indexer, value)\n"
     ]
    }
   ],
   "source": [
    "# we need to split by ('.') to save our memory during speech tagging process to build the tree\n",
    "for i in range(df.shape[0]):\n",
    "    texts = df['Quote'].iloc[i].split('. ')\n",
    "    tags = []\n",
    "    for t in texts:\n",
    "        tags += get_clean_text(t)\n",
    "    df['Quote'].iloc[i] = ' '.join(list(OrderedDict.fromkeys(tags)))"
   ]
  },
  {
   "cell_type": "code",
   "execution_count": 30,
   "metadata": {},
   "outputs": [
    {
     "data": {
      "text/plain": [
       "'Hour be established Romans land alAmaq Dabiq places countryside Halab army alMadinah people earth time leave line ranks say Leave taken prisoners fight Muslims Nay Allah abandon brothers third flee forgive killed martyrs conquer afflicted fitnah Constantinople war booty hung swords trees Shaytan shout Messiah has followed families left Shaytans claim is Sham comes battle prayer called Isa Ibn Maryam alayhisSalam descend lead enemy sees melt salt melts water kills hand shows blood spear'"
      ]
     },
     "execution_count": 30,
     "metadata": {},
     "output_type": "execute_result"
    }
   ],
   "source": [
    "df['Quote'].iloc[1]"
   ]
  },
  {
   "cell_type": "markdown",
   "metadata": {},
   "source": [
    "It cleans already\n",
    "\n",
    "Below I want to get freq of unique for certain columns i want, you can do bar graph"
   ]
  },
  {
   "cell_type": "code",
   "execution_count": 31,
   "metadata": {},
   "outputs": [
    {
     "data": {
      "text/plain": [
       "Qur'an                           1011\n",
       "Hadith                            732\n",
       "Classical Scholar                 264\n",
       "Jihadist                          138\n",
       "Tafsir                            105\n",
       "Unknown                            98\n",
       "Media, Politician, or Analyst      77\n",
       "Bible                              62\n",
       "Salaf                              39\n",
       "Sira                               33\n",
       "Hadith Commentary                  30\n",
       "Muslim Historical Figure           28\n",
       "Islamist                           25\n",
       "Religious Scholar                  11\n",
       "Fatwa                               8\n",
       "Shia Scholar                        6\n",
       "Fiqh                                5\n",
       "Contemporary Scholar                4\n",
       "Classical Islamic Scholar           3\n",
       "Christian                           2\n",
       "Poetry                              1\n",
       "Hadith                              1\n",
       "Western Historical Figure           1\n",
       "Name: Type, dtype: int64"
      ]
     },
     "execution_count": 31,
     "metadata": {},
     "output_type": "execute_result"
    }
   ],
   "source": [
    "df['Type'].value_counts()"
   ]
  },
  {
   "cell_type": "code",
   "execution_count": 32,
   "metadata": {},
   "outputs": [
    {
     "data": {
      "text/plain": [
       "Support    787\n",
       "Refute      46\n",
       "Suport       1\n",
       "Name: Purpose, dtype: int64"
      ]
     },
     "execution_count": 32,
     "metadata": {},
     "output_type": "execute_result"
    }
   ],
   "source": [
    "df['Purpose'].value_counts()"
   ]
  },
  {
   "cell_type": "code",
   "execution_count": 34,
   "metadata": {},
   "outputs": [
    {
     "data": {
      "text/plain": [
       "Dabiq      1481\n",
       "Rumiyah    1203\n",
       "Name: Magazine, dtype: int64"
      ]
     },
     "execution_count": 34,
     "metadata": {},
     "output_type": "execute_result"
    }
   ],
   "source": [
    "df['Magazine'].value_counts()"
   ]
  },
  {
   "cell_type": "code",
   "execution_count": 35,
   "metadata": {},
   "outputs": [
    {
     "data": {
      "text/plain": [
       "Bukhari, Muslim                               154\n",
       "Sahih Muslim                                  154\n",
       "Sahih Bukhari                                  80\n",
       "Ibn Taymiyyah                                  63\n",
       "Ibn Kathir                                     37\n",
       "at-Tirmidhi                                    34\n",
       "Imam Ahmad                                     31\n",
       "Abu Mus'ab az-Zarqawi                          29\n",
       "Ibn al-Athir                                   26\n",
       "at-Tabari                                      26\n",
       "Ahmad                                          25\n",
       "Ibn al-Qayyim                                  25\n",
       "Unknown                                        24\n",
       "No Source Given                                21\n",
       "Abu Dawud                                      21\n",
       "Muslim Brotherhood                             18\n",
       "Ibn Hajar al-Asqalani, \"Fath ul-Bari\"          18\n",
       "As-Salawi                                      16\n",
       "Abu Hamzah al-Muhajir                          14\n",
       "Abu Muhammad al-Adnani                         14\n",
       "at-Tawbah 5                                    13\n",
       "Muhammad ibn Abd al-Wahhab                     12\n",
       "The Khalifa                                    12\n",
       "Ibn Kathir, \"al-Bidayah wan-Nihayah\"           11\n",
       "Ibn al-Qayyim, \"Zad al-Ma'ad\"                  11\n",
       "al-Imran 103                                   11\n",
       "al-Hashr 14                                    10\n",
       "Ibn Qasim an-Najdi                             10\n",
       "Abdullah Ibn Ahmad Ibn Hanbal, \"As-Sunnah\"     10\n",
       "al-Ma'ida 54                                    9\n",
       "                                             ... \n",
       "The Independent                                 1\n",
       "Maryam 63                                       1\n",
       "Yunus 65                                        1\n",
       "al-Imran 54                                     1\n",
       "Ibn-Taymiyyah                                   1\n",
       "Al-Firyabi                                      1\n",
       "Saad 79                                         1\n",
       "Yusuf 87                                        1\n",
       "Speaker of the Islamic State                    1\n",
       "al-Baqarah 208                                  1\n",
       "Muhammad 38                                     1\n",
       "at-Talaq 4                                      1\n",
       "al-Bayhaqi, \"Al-I'tiqad\"                        1\n",
       "Zawaid Musnad Ahmad                            1\n",
       "al-Baqarah 8-13                                 1\n",
       "Hud 123                                         1\n",
       "al-Hijr 94                                      1\n",
       "al-Qasas 71-73                                  1\n",
       "Imam Abu Hanifa                                 1\n",
       "Imam Malik, \"Muwatta\"                           1\n",
       "al-Mumtahinah 10                                1\n",
       "Global Post                                     1\n",
       "at-Tawbah 75-77                                 1\n",
       "Second Treatise of the Great Seth               1\n",
       "John 16:13                                      1\n",
       "al-Hakim,                                       1\n",
       "az-Zumar 53-54                                  1\n",
       "Imam Ahamd                                      1\n",
       "al-Imran 126                                    1\n",
       "Abu Ja'far at-Tabari                            1\n",
       "Name: Source, Length: 1158, dtype: int64"
      ]
     },
     "execution_count": 35,
     "metadata": {},
     "output_type": "execute_result"
    }
   ],
   "source": [
    "df['Source'].value_counts()"
   ]
  },
  {
   "cell_type": "markdown",
   "metadata": {},
   "source": [
    "How about we predict Magazine from Source?"
   ]
  },
  {
   "cell_type": "code",
   "execution_count": 51,
   "metadata": {
    "collapsed": true
   },
   "outputs": [],
   "source": [
    "labels = df['Magazine'].values.copy()\n",
    "\n",
    "# get unique label\n",
    "unique_labels = np.unique(labels)\n",
    "# change into int\n",
    "labels = LabelEncoder().fit_transform(labels)\n",
    "texts = df['Quote'].values.copy()"
   ]
  },
  {
   "cell_type": "markdown",
   "metadata": {},
   "source": [
    "I will use traditional Bag-of-Word and tf-idf for changing text to vectors space"
   ]
  },
  {
   "cell_type": "code",
   "execution_count": 54,
   "metadata": {},
   "outputs": [
    {
     "data": {
      "text/plain": [
       "(2684, 8829)"
      ]
     },
     "execution_count": 54,
     "metadata": {},
     "output_type": "execute_result"
    }
   ],
   "source": [
    "bag_counts = CountVectorizer().fit_transform(texts)\n",
    "bag_counts.shape"
   ]
  },
  {
   "cell_type": "markdown",
   "metadata": {},
   "source": [
    "That means, there are 8829 unique of word, every words in a sentence will add value by 1 if got in the vectors.\n",
    "\n",
    "Example, sentence is 'I LOVE YOU YOU YOU', our vector got [0, 0, 0] represent 'I LOVE YOU',\n",
    "\n",
    "that mean our vector for 'I LOVE YOU YOU YOU' is [1, 1, 3]"
   ]
  },
  {
   "cell_type": "code",
   "execution_count": 57,
   "metadata": {},
   "outputs": [
    {
     "name": "stdout",
     "output_type": "stream",
     "text": [
      "(2684, 8829)\n"
     ]
    },
    {
     "data": {
      "text/plain": [
       "<1x8829 sparse matrix of type '<class 'numpy.float64'>'\n",
       "\twith 14 stored elements in Compressed Sparse Row format>"
      ]
     },
     "execution_count": 57,
     "metadata": {},
     "output_type": "execute_result"
    }
   ],
   "source": [
    "bag_counts_tdidf = TfidfTransformer(use_idf = True).fit_transform(bag_counts)\n",
    "bag_counts_tdidf.shape"
   ]
  },
  {
   "cell_type": "markdown",
   "metadata": {},
   "source": [
    "This is the function of tf-idf\n",
    "![alt text](https://wikimedia.org/api/rest_v1/media/math/render/svg/10109d0e60cc9d50a1ea2f189bac0ac29a030a00)"
   ]
  },
  {
   "cell_type": "code",
   "execution_count": 58,
   "metadata": {
    "collapsed": true
   },
   "outputs": [],
   "source": [
    "# just want to show example\n",
    "del bag_counts_tdidf, bag_counts"
   ]
  },
  {
   "cell_type": "code",
   "execution_count": 60,
   "metadata": {
    "collapsed": true
   },
   "outputs": [],
   "source": [
    "# i use pipeline to do automate processing to feed into my classifier. bag of word -> tf-idf -> SGD\n",
    "magazine_clf = Pipeline([('vect', CountVectorizer()), \n",
    "                         ('tfidf', TfidfTransformer()), \n",
    "                         ('clf', SGDClassifier(loss = 'modified_huber', \n",
    "                                               penalty = 'l2', alpha = 1e-4, \n",
    "                                               n_iter = 100, random_state = 42))])"
   ]
  },
  {
   "cell_type": "markdown",
   "metadata": {},
   "source": [
    "How about some visualization for our text data?"
   ]
  },
  {
   "cell_type": "code",
   "execution_count": 74,
   "metadata": {},
   "outputs": [
    {
     "data": {
      "image/png": "[encoded data removed]",
      "text/plain": [
       "<matplotlib.figure.Figure at 0x7f17795c20f0>"
      ]
     },
     "metadata": {},
     "output_type": "display_data"
    }
   ],
   "source": [
    "from sklearn.preprocessing import StandardScaler\n",
    "from sklearn.preprocessing import Normalizer\n",
    "from sklearn.cross_validation import train_test_split\n",
    "from sklearn.manifold import TSNE\n",
    "import matplotlib.pyplot as plt\n",
    "import seaborn as sns\n",
    "sns.set()\n",
    "\n",
    "current_palette = sns.color_palette()\n",
    "# blue and red from seaborn\n",
    "colors = [current_palette[0], current_palette[2]]\n",
    "\n",
    "# visualize 20% of our data\n",
    "_, x, _, y = train_test_split(texts, labels, test_size = 0.2)\n",
    "\n",
    "plt.rcParams[\"figure.figsize\"] = [10, 10]\n",
    "ax = plt.subplot(111)\n",
    "\n",
    "X = Pipeline([('vect', CountVectorizer()),('tfidf', TfidfTransformer()),]).fit_transform(x).todense()\n",
    "tsne = TSNE(n_components = 2).fit_transform(X)\n",
    "for no, _ in enumerate(np.unique(unique_labels)):\n",
    "    ax.scatter(tsne[y == no, 0], tsne[y == no, 1], c = colors[no], label = unique_labels[no])\n",
    "    \n",
    "box = ax.get_position()\n",
    "ax.set_position([box.x0, box.y0 + box.height * 0.1, box.width, box.height * 0.9])\n",
    "ax.legend(loc = 'upper center', bbox_to_anchor = (0.5, -0.05), fancybox = True, shadow = True, ncol = 5)\n",
    "plt.show()"
   ]
  },
  {
   "cell_type": "markdown",
   "metadata": {},
   "source": [
    "We will got low accuracy for this if reduce the dimension"
   ]
  },
  {
   "cell_type": "code",
   "execution_count": 66,
   "metadata": {},
   "outputs": [
    {
     "name": "stdout",
     "output_type": "stream",
     "text": [
      "0.813780260708\n"
     ]
    }
   ],
   "source": [
    "x_train, x_test, y_train, y_test = train_test_split(texts, labels, test_size = 0.2)\n",
    "magazine_clf.fit(x_train, y_train)\n",
    "predicted = magazine_clf.predict(x_test)\n",
    "print (np.mean(predicted == y_test))"
   ]
  },
  {
   "cell_type": "markdown",
   "metadata": {},
   "source": [
    "We got 81 accuracy for validation set! how about f1 score?"
   ]
  },
  {
   "cell_type": "code",
   "execution_count": 67,
   "metadata": {},
   "outputs": [
    {
     "name": "stdout",
     "output_type": "stream",
     "text": [
      "             precision    recall  f1-score   support\n",
      "\n",
      "      Dabiq       0.85      0.82      0.84       308\n",
      "    Rumiyah       0.77      0.80      0.79       229\n",
      "\n",
      "avg / total       0.81      0.81      0.81       537\n",
      "\n"
     ]
    }
   ],
   "source": [
    "print(metrics.classification_report(y_test, predicted, target_names = unique_labels))"
   ]
  },
  {
   "cell_type": "markdown",
   "metadata": {},
   "source": [
    "Good enough! how about we do discrimination on 'Type'?"
   ]
  },
  {
   "cell_type": "code",
   "execution_count": 68,
   "metadata": {
    "collapsed": true
   },
   "outputs": [],
   "source": [
    "types = df['Type'].values.copy()\n",
    "\n",
    "# get unique label\n",
    "unique_types = np.unique(types)\n",
    "# change into int\n",
    "types = LabelEncoder().fit_transform(types)"
   ]
  },
  {
   "cell_type": "code",
   "execution_count": 75,
   "metadata": {},
   "outputs": [
    {
     "data": {
      "image/png": "[encoded data removed]",
      "text/plain": [
       "<matplotlib.figure.Figure at 0x7f177afde630>"
      ]
     },
     "metadata": {},
     "output_type": "display_data"
    }
   ],
   "source": [
    "current_palette = sns.color_palette(n_colors = unique_types.shape[0])\n",
    "\n",
    "# visualize 20% of our data\n",
    "_, x, _, y = train_test_split(texts, types, test_size = 0.2)\n",
    "\n",
    "plt.rcParams[\"figure.figsize\"] = [10, 10]\n",
    "ax = plt.subplot(111)\n",
    "\n",
    "X = Pipeline([('vect', CountVectorizer()),('tfidf', TfidfTransformer()),]).fit_transform(x).todense()\n",
    "tsne = TSNE(n_components = 2).fit_transform(X)\n",
    "for no, _ in enumerate(np.unique(unique_types)):\n",
    "    ax.scatter(tsne[y == no, 0], tsne[y == no, 1], c = current_palette[no], label = unique_types[no])\n",
    "    \n",
    "box = ax.get_position()\n",
    "ax.set_position([box.x0, box.y0 + box.height * 0.1, box.width, box.height * 0.9])\n",
    "ax.legend(loc = 'upper center', bbox_to_anchor = (0.5, -0.05), fancybox = True, shadow = True, ncol = 5)\n",
    "plt.show()"
   ]
  },
  {
   "cell_type": "markdown",
   "metadata": {},
   "source": [
    "It clustered and sticked nearly each others according to population, good!"
   ]
  },
  {
   "cell_type": "code",
   "execution_count": 76,
   "metadata": {
    "collapsed": true
   },
   "outputs": [],
   "source": [
    "# i use pipeline to do automate processing to feed into my classifier. bag of word -> tf-idf -> SGD\n",
    "type_clf = Pipeline([('vect', CountVectorizer()), \n",
    "                         ('tfidf', TfidfTransformer()), \n",
    "                         ('clf', SGDClassifier(loss = 'modified_huber', \n",
    "                                               penalty = 'l2', alpha = 1e-4, \n",
    "                                               n_iter = 100, random_state = 42))])"
   ]
  },
  {
   "cell_type": "code",
   "execution_count": 78,
   "metadata": {},
   "outputs": [
    {
     "name": "stdout",
     "output_type": "stream",
     "text": [
      "0.797020484171\n",
      "                               precision    recall  f1-score   support\n",
      "\n",
      "                        Bible       1.00      0.91      0.95        11\n",
      "                    Christian       0.53      0.50      0.51        56\n",
      "    Classical Islamic Scholar       0.00      0.00      0.00         2\n",
      "            Classical Scholar       0.00      0.00      0.00         2\n",
      "         Contemporary Scholar       0.79      0.82      0.80       148\n",
      "                        Fatwa       1.00      0.50      0.67         4\n",
      "                         Fiqh       1.00      1.00      1.00         3\n",
      "                       Hadith       0.79      0.86      0.83        22\n",
      "                      Hadith        0.85      0.85      0.85        20\n",
      "            Hadith Commentary       1.00      0.60      0.75         5\n",
      "                     Islamist       0.88      0.99      0.93       207\n",
      "                     Jihadist       0.00      0.00      0.00         1\n",
      "Media, Politician, or Analyst       0.25      0.17      0.20         6\n",
      "     Muslim Historical Figure       0.00      0.00      0.00         2\n",
      "                       Poetry       0.00      0.00      0.00         7\n",
      "                       Qur'an       0.77      0.77      0.77        22\n",
      "            Religious Scholar       0.30      0.17      0.21        18\n",
      "                        Salaf       0.00      0.00      0.00         1\n",
      "\n",
      "                  avg / total       0.76      0.80      0.78       537\n",
      "\n"
     ]
    },
    {
     "name": "stderr",
     "output_type": "stream",
     "text": [
      "/usr/local/lib/python3.5/dist-packages/sklearn/metrics/classification.py:1113: UndefinedMetricWarning: Precision and F-score are ill-defined and being set to 0.0 in labels with no predicted samples.\n",
      "  'precision', 'predicted', average, warn_for)\n"
     ]
    }
   ],
   "source": [
    "x_train, x_test, y_train, y_test = train_test_split(texts, types, test_size = 0.2)\n",
    "type_clf.fit(x_train, y_train)\n",
    "predicted = type_clf.predict(x_test)\n",
    "print(np.mean(predicted == y_test))\n",
    "print(metrics.classification_report(y_test, predicted, target_names = unique_types))"
   ]
  },
  {
   "cell_type": "markdown",
   "metadata": {},
   "source": [
    "['Bible', 'Fatwa', 'Fiqh', 'Hadith Commentary'] seems overfit, anyways, it is good enough to do text classification!"
   ]
  },
  {
   "cell_type": "code",
   "execution_count": null,
   "metadata": {
    "collapsed": true
   },
   "outputs": [],
   "source": []
  }
 ],
 "metadata": {
  "kernelspec": {
   "display_name": "Python 3",
   "language": "python",
   "name": "python3"
  },
  "language_info": {
   "codemirror_mode": {
    "name": "ipython",
    "version": 3
   },
   "file_extension": ".py",
   "mimetype": "text/x-python",
   "name": "python",
   "nbconvert_exporter": "python",
   "pygments_lexer": "ipython3",
   "version": "3.5.2"
  }
 },
 "nbformat": 4,
 "nbformat_minor": 2
}
